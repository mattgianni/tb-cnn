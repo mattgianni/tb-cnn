{
 "cells": [
  {
   "cell_type": "markdown",
   "metadata": {},
   "source": [
    "### Preprocessor for the [Tuberculosis Tb Chest Xray Dataset](https://www.kaggle.com/datasets/tawsifurrahman/tuberculosis-tb-chest-xray-dataset)\n",
    "\n",
    "Before you can use this preprocessor, or any of the downstream models this dataset is used for, you need to download it from [https://www.kaggle.com/datasets/tawsifurrahman/tuberculosis-tb-chest-xray-dataset](https://www.kaggle.com/datasets/tawsifurrahman/tuberculosis-tb-chest-xray-dataset)."
   ]
  },
  {
   "cell_type": "code",
   "execution_count": 4,
   "metadata": {},
   "outputs": [],
   "source": [
    "import h5py\n",
    "import numpy as np\n",
    "import os\n",
    "from PIL import Image"
   ]
  },
  {
   "cell_type": "code",
   "execution_count": 5,
   "metadata": {},
   "outputs": [],
   "source": [
    "def load_and_preprocess_data(data_dir, image_size):\n",
    "    images = []\n",
    "    labels = []\n",
    "\n",
    "    # Iterate through each folder (each class of flowers)\n",
    "    for class_name in os.listdir(data_dir):\n",
    "        class_dir = os.path.join(data_dir, class_name)\n",
    "\n",
    "        # Iterate through each image in the class folder\n",
    "        # Check if it's a directory\n",
    "        if not os.path.isdir(class_dir):\n",
    "            continue  # Skip if it's not a directory\n",
    "        for image_name in os.listdir(class_dir):\n",
    "            image_path = os.path.join(class_dir, image_name)\n",
    "\n",
    "\n",
    "            # Read image and convert to grayscale\n",
    "            image = Image.open(image_path).convert('L')\n",
    "\n",
    "            # Resize image\n",
    "            image = image.resize(image_size)\n",
    "\n",
    "            # Convert image to numpy array\n",
    "            image = np.array(image)\n",
    "\n",
    "            # Normalize pixel values to [0, 1]\n",
    "            image = image.astype('float32') / 255.0\n",
    "\n",
    "            # Append to the lists\n",
    "            images.append(image)\n",
    "            labels.append(class_name)\n",
    "\n",
    "    # Convert lists to numpy arrays\n",
    "    images = np.array(images)\n",
    "    labels = np.array(labels)\n",
    "\n",
    "    return images, labels"
   ]
  },
  {
   "cell_type": "code",
   "execution_count": 6,
   "metadata": {},
   "outputs": [],
   "source": [
    "dataset_dir = \"../TB_Chest_Radiography_Database\"\n",
    "image_size = (128, 128)\n",
    "images, labels = load_and_preprocess_data(dataset_dir, image_size)"
   ]
  },
  {
   "cell_type": "code",
   "execution_count": 8,
   "metadata": {},
   "outputs": [],
   "source": [
    "# Open a new HDF5 file\n",
    "with h5py.File(f\"{dataset_dir}/tb-xraydb.h5py\", \"w\") as h5f:\n",
    "    # Store the images and labels datasets\n",
    "    h5f.create_dataset(\"images\", data=images)\n",
    "    \n",
    "    # Store the labels dataset with dtype 'S' for string data\n",
    "    dt = h5py.special_dtype(vlen=str)\n",
    "    h5f.create_dataset('labels', data=labels.astype(dt))"
   ]
  }
 ],
 "metadata": {
  "kernelspec": {
   "display_name": "Python 3",
   "language": "python",
   "name": "python3"
  },
  "language_info": {
   "codemirror_mode": {
    "name": "ipython",
    "version": 3
   },
   "file_extension": ".py",
   "mimetype": "text/x-python",
   "name": "python",
   "nbconvert_exporter": "python",
   "pygments_lexer": "ipython3",
   "version": "3.11.0"
  }
 },
 "nbformat": 4,
 "nbformat_minor": 2
}
