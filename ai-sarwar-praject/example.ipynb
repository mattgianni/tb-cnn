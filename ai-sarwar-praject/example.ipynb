{
 "cells": [
  {
   "cell_type": "markdown",
   "metadata": {},
   "source": [
    "### The example is derived from [AI-sarwar-praject](https://www.kaggle.com/code/laraibakhtar/ai-sarwar-praject), a Kaggle notebook.\n",
    "\n",
    "This notebook is based on a Kaggle example, [AI-sarwar-praject](https://www.kaggle.com/code/laraibakhtar/ai-sarwar-praject). The Kaggle notebook code was distributed under the [Apache 2.0 License](http://www.apache.org/licenses/LICENSE-2.0). As instructed, the text of the license is located in the same directory as this notebook in the file [AI-SARWAR-LICENSE](AI-SARWAR-LICENSE).\n",
    "\n",
    "### Setup\n",
    "\n",
    "You first need to run the code in [make_h5py.ipynb](make_h5py.ipynb) to generate the image database this model uses for training.\n"
   ]
  },
  {
   "cell_type": "code",
   "execution_count": null,
   "metadata": {},
   "outputs": [],
   "source": [
    "# import pandas as pd\n",
    "import numpy as np\n",
    "import os\n",
    "import tensorflow as tf\n",
    "# import cv2\n",
    "import h5py\n",
    "# from PIL import Image\n",
    "import keras\n",
    "from keras.layers import Dense,Input, InputLayer, Flatten\n",
    "from keras.models import Sequential, Model, load_model\n",
    "from  matplotlib import pyplot as plt\n",
    "import matplotlib.image as mpimg\n",
    "import matplotlib.pyplot as plt\n",
    "from keras.optimizers import Adam\n",
    "from keras.utils import to_categorical\n",
    "from keras.callbacks import ModelCheckpoint, EarlyStopping\n",
    "from sklearn.metrics import classification_report, confusion_matrix,f1_score"
   ]
  },
  {
   "cell_type": "code",
   "execution_count": null,
   "metadata": {},
   "outputs": [],
   "source": [
    "#View some samples of the dataset\n",
    "import random\n",
    "plt.figure(figsize=(20,9))\n",
    "folder=r'../TB_Chest_Radiography_Database/Normal'\n",
    "for i in range(5):\n",
    "    file = random.choice(os.listdir(folder))\n",
    "    image_path= os.path.join(folder, file)\n",
    "    img=mpimg.imread(image_path)\n",
    "    ax=plt.subplot(2,5,i+1)\n",
    "    ax.title.set_text(file)\n",
    "    plt.imshow(img)\n",
    "folder=r'../TB_Chest_Radiography_Database/Tuberculosis'\n",
    "for i in range(5):\n",
    "    file = random.choice(os.listdir(folder))\n",
    "    image_path= os.path.join(folder, file)\n",
    "    img=mpimg.imread(image_path)\n",
    "    ax=plt.subplot(2,5,i+6)\n",
    "    ax.title.set_text(file)\n",
    "    plt.imshow(img)\n",
    "plt.tight_layout()\n",
    "plt.show()"
   ]
  },
  {
   "cell_type": "code",
   "execution_count": null,
   "metadata": {},
   "outputs": [],
   "source": [
    "# Open the HDF5 file\n",
    "dataset_dir = \"../TB_Chest_Radiography_Database\"\n",
    "with h5py.File(f\"{dataset_dir}/tb-xraydb.h5py\", \"r\") as h5f:\n",
    "    # Load the images and labels datasets\n",
    "    images = h5f['images'][:]\n",
    "    labels = h5f['labels'][:]"
   ]
  },
  {
   "cell_type": "code",
   "execution_count": null,
   "metadata": {},
   "outputs": [],
   "source": [
    "from sklearn.preprocessing import LabelEncoder\n",
    "# Convert class labels to one-hot encoded vectors\n",
    "label_encoder = LabelEncoder()\n",
    "encoded_class_names = label_encoder.fit_transform(labels)"
   ]
  },
  {
   "cell_type": "code",
   "execution_count": null,
   "metadata": {},
   "outputs": [],
   "source": [
    "from sklearn.model_selection import train_test_split\n",
    "\n",
    "\n",
    "# Split dataset into training and testing sets\n",
    "X_train, X_test, y_train, y_test = train_test_split(images, encoded_class_names, test_size=0.33, random_state=42)\n",
    "\n",
    "y_train = np.array(y_train)\n",
    "y_test = np.array(y_test)\n",
    "X_train = np.array(X_train)\n",
    "X_test = np.array(X_test)\n",
    "\n",
    "# Check the shapes of the datasets\n",
    "print(\"Train images shape:\", X_train.shape)\n",
    "print(\"Train labels shape:\", X_test.shape)\n",
    "print(\"Validation images shape:\", y_train.shape)\n",
    "print(\"Validation labels shape:\", y_test.shape)"
   ]
  },
  {
   "cell_type": "code",
   "execution_count": null,
   "metadata": {},
   "outputs": [],
   "source": [
    "model = keras.Sequential([\n",
    "    # keras.layers.Conv2D(128, (3, 3), input_shape=(X_train.shape[1], X_train.shape[2], 1)),\n",
    "    keras.Input(shape=(X_train.shape[1], X_train.shape[2], 1)),\n",
    "    keras.layers.Conv2D(128, (3, 3)),\n",
    "    keras.layers.LeakyReLU(alpha=0.02),\n",
    "    \n",
    "    keras.layers.MaxPooling2D(pool_size=(2, 2)),\n",
    "    keras.layers.Dropout(0.25),\n",
    "\n",
    "    keras.layers.Conv2D(128, (3, 3)),\n",
    "    keras.layers.LeakyReLU(alpha=0.02),\n",
    "    \n",
    "    keras.layers.MaxPooling2D(pool_size=(2, 2)),\n",
    "    keras.layers.Dropout(0.25),\n",
    "\n",
    "    keras.layers.GlobalMaxPooling2D(),\n",
    "    \n",
    "    keras.layers.Dense(512),\n",
    "    keras.layers.LeakyReLU(alpha=0.02),\n",
    "    keras.layers.Dropout(0.5),\n",
    "\n",
    "    keras.layers.Dense(10),\n",
    "    keras.layers.Activation('softmax')\n",
    "])\n",
    "\n",
    "model.compile(loss='categorical_crossentropy', optimizer='adam', metrics=['accuracy'])\n",
    "\n",
    "model.summary()"
   ]
  },
  {
   "cell_type": "code",
   "execution_count": null,
   "metadata": {},
   "outputs": [],
   "source": [
    "# Compile the model\n",
    "initial_lr = 0.0001\n",
    "lr_schedule = keras.optimizers.schedules.ExponentialDecay(\n",
    "    initial_lr, decay_steps=10000, decay_rate=0.9\n",
    ")\n",
    "optimizer = Adam(learning_rate=lr_schedule)\n",
    "model.compile(optimizer='adam', loss='sparse_categorical_crossentropy', metrics=['accuracy'])"
   ]
  },
  {
   "cell_type": "code",
   "execution_count": null,
   "metadata": {},
   "outputs": [],
   "source": [
    "early_stopping = EarlyStopping(monitor='val_loss', patience=5)\n",
    "\n",
    "history = model.fit(X_train, y_train, epochs=50, validation_split=0.2)"
   ]
  },
  {
   "cell_type": "code",
   "execution_count": null,
   "metadata": {},
   "outputs": [],
   "source": [
    "# Plotting the training history\n",
    "def plot_history(history):\n",
    "    plt.figure(figsize=(12, 5))\n",
    "    \n",
    "    # Plot training & validation accuracy values\n",
    "    plt.subplot(1, 2, 1)\n",
    "    plt.plot(history.history['accuracy'])\n",
    "    plt.plot(history.history['val_accuracy'])\n",
    "    plt.title('Model accuracy')\n",
    "    plt.ylabel('Accuracy')\n",
    "    plt.xlabel('Epoch')\n",
    "    plt.legend(['Train', 'Validation'], loc='upper left')\n",
    "    \n",
    "    # Plot training & validation loss values\n",
    "    plt.subplot(1, 2, 2)\n",
    "    plt.plot(history.history['loss'])\n",
    "    plt.plot(history.history['val_loss'])\n",
    "    plt.title('Model loss')\n",
    "    plt.ylabel('Loss')\n",
    "    plt.xlabel('Epoch')\n",
    "    plt.legend(['Train', 'Validation'], loc='upper left')\n",
    "    \n",
    "    plt.show()\n",
    "\n",
    "plot_history(history)"
   ]
  },
  {
   "cell_type": "code",
   "execution_count": null,
   "metadata": {},
   "outputs": [],
   "source": [
    "predicted_labels = model.predict(X_test)\n",
    "predicted_labels = np.argmax(predicted_labels, axis=1)\n",
    "#predicted_class_names = label_encoder.inverse_transform(predicted_labels)\n",
    "\n",
    "f1 = f1_score(y_test, predicted_labels, average='macro')\n",
    "report = classification_report(y_test, predicted_labels)\n",
    "\n",
    "print(\"F1 Score:\", f1)\n",
    "print(\"Classification Report:\")\n",
    "print(report)\n",
    "\n",
    "import seaborn as sns\n",
    "\n",
    "# Confusion matrix\n",
    "conf_matrix = confusion_matrix(y_test, predicted_labels)\n",
    "plt.figure(figsize=(8, 6))\n",
    "sns.heatmap(conf_matrix, annot=True, fmt='d', cmap='Blues', xticklabels=['NORM', 'TB'], yticklabels=['NORM', 'TB'])\n",
    "plt.title('Confusion Matrix')\n",
    "plt.ylabel('True label')\n",
    "plt.xlabel('Predicted label')\n",
    "plt.show()"
   ]
  }
 ],
 "metadata": {
  "kernelspec": {
   "display_name": ".venv",
   "language": "python",
   "name": "python3"
  },
  "language_info": {
   "codemirror_mode": {
    "name": "ipython",
    "version": 3
   },
   "file_extension": ".py",
   "mimetype": "text/x-python",
   "name": "python",
   "nbconvert_exporter": "python",
   "pygments_lexer": "ipython3",
   "version": "3.11.0"
  }
 },
 "nbformat": 4,
 "nbformat_minor": 2
}
